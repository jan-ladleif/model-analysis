{
 "cells": [
  {
   "cell_type": "markdown",
   "metadata": {},
   "source": [
    "### Research Questions\n",
    "1. How many of the files are valid BPMN2 XML files?\n",
    "1. Do people use the diagram interchange format?\n",
    "1. Which events are used?\n",
    "  - Event types, e.g., intermediate, boundary, event sub-process, ...\n",
    "  - Event definitions, e.g., timer events, conditional events, ...\n",
    "1. How often are events fully specified, e.g., via formal expressions?\n",
    "1. If formal expressions are given, how are they specified?"
   ]
  },
  {
   "cell_type": "code",
   "execution_count": 1,
   "metadata": {},
   "outputs": [],
   "source": [
    "var fs = require('fs-extra');\n",
    "var moddle = require('bpmn-moddle')();\n",
    "var highcharts = require('highcharts-export-server');\n",
    "var crypto = require('crypto');"
   ]
  },
  {
   "cell_type": "code",
   "execution_count": 2,
   "metadata": {},
   "outputs": [],
   "source": [
    "var list;   // list of all files\n",
    "var models; // list of all valid model files with their parsed BPMN model"
   ]
  },
  {
   "cell_type": "code",
   "execution_count": 3,
   "metadata": {},
   "outputs": [],
   "source": [
    "// how many files to load at most\n",
    "var LIMIT = undefined;\n",
    "var DIR = './all_files/';"
   ]
  },
  {
   "cell_type": "markdown",
   "metadata": {},
   "source": [
    "---\n",
    "# 1. Loading\n",
    "---"
   ]
  },
  {
   "cell_type": "markdown",
   "metadata": {},
   "source": [
    "## Enumerate Files\n",
    "\n",
    "List all the files we want to process."
   ]
  },
  {
   "cell_type": "code",
   "execution_count": 4,
   "metadata": {},
   "outputs": [
    {
     "name": "stdout",
     "output_type": "stream",
     "text": [
      "Found 21306 files and picked 21306\n"
     ]
    }
   ],
   "source": [
    "$$.async();\n",
    "\n",
    "fs.readdir(DIR).then(l => {\n",
    "  if (LIMIT) {\n",
    "    list = l.slice(0, LIMIT);\n",
    "  } else {\n",
    "    list = l;\n",
    "  }\n",
    "  console.log('Found', l.length, 'files and picked', list.length)\n",
    "  $$.done();\n",
    "});"
   ]
  },
  {
   "cell_type": "markdown",
   "metadata": {},
   "source": [
    "## Remove Duplicates\n",
    "\n",
    "We load all the files we have, even though some may not contain valid models.\n",
    "\n",
    "We also filter duplicates by hashing each file, and detecting duplicate hashes."
   ]
  },
  {
   "cell_type": "code",
   "execution_count": 5,
   "metadata": {},
   "outputs": [
    {
     "name": "stdout",
     "output_type": "stream",
     "text": [
      "Loaded 10672 models, removed 10634 duplicates\n"
     ]
    }
   ],
   "source": [
    "var unique = {};\n",
    "var loaded = [];\n",
    "for (let i = 0; i < list.length; i++) {\n",
    "  const fileName = list[i];\n",
    "  const fileContent = fs.readFileSync(DIR + fileName, { encoding: 'utf8' });\n",
    "  const hash = crypto.createHash('sha256').update(fileContent).digest('base64');\n",
    "  if (unique[hash]) {\n",
    "    continue;\n",
    "  }\n",
    "  loaded.push({\n",
    "    fileName,\n",
    "    fileContent\n",
    "  });\n",
    "  unique[hash] = true;\n",
    "}\n",
    "var duplicateCount = list.length - loaded.length;\n",
    "console.log('Loaded', loaded.length, 'models, removed', duplicateCount, 'duplicates');"
   ]
  },
  {
   "cell_type": "markdown",
   "metadata": {},
   "source": [
    "## Parse Models\n",
    "\n",
    "While parsing, we also filter invalid models.\n",
    "\n",
    "In essence, we just throw the file contents at `bpmn-modle` and if that fails assume that the file did not contain a valid BPMN2 XML serialization."
   ]
  },
  {
   "cell_type": "code",
   "execution_count": 27,
   "metadata": {},
   "outputs": [
    {
     "name": "stdout",
     "output_type": "stream",
     "text": [
      "Parsed 8802 models, removed 1870 invalid\n"
     ]
    }
   ],
   "source": [
    "$$.async();\n",
    "\n",
    "var parseJobs = loaded.map(file => {\n",
    "  return new Promise((resolve, reject) => {\n",
    "    moddle.fromXML(file.fileContent, (error, definitions) => {\n",
    "      if (!error) {\n",
    "        resolve(definitions);\n",
    "      } else {\n",
    "        // return undefined for later filtering\n",
    "        resolve();\n",
    "      }\n",
    "    });\n",
    "  }).then(definitions => {\n",
    "    if (definitions) {\n",
    "      return {\n",
    "        fileName: file.fileName,\n",
    "        fileContent: file.fileContent,\n",
    "        definitions\n",
    "      };\n",
    "    }\n",
    "  });\n",
    "});\n",
    "\n",
    "var invalidCount;\n",
    "Promise.all(parseJobs).then(results => {\n",
    "  models = results.filter(Boolean);\n",
    "  invalidCount = loaded.length - models.length;\n",
    "  console.log('Parsed', models.length, 'models, removed', invalidCount, 'invalid');\n",
    "  $$.done();\n",
    "});"
   ]
  },
  {
   "cell_type": "markdown",
   "metadata": {},
   "source": [
    "## Loading: Summary\n",
    "\n",
    "- How many duplicates were detected?\n",
    "- How many files contain valid BPMN2 models?"
   ]
  },
  {
   "cell_type": "code",
   "execution_count": 7,
   "metadata": {},
   "outputs": [
    {
     "name": "stdout",
     "output_type": "stream",
     "text": [
      "Found 10634 duplicates, 1870 invalid, 8802 valid\n"
     ]
    },
    {
     "data": {
      "image/png": "[encoded data removed]"
     },
     "execution_count": 7,
     "metadata": {},
     "output_type": "execute_result"
    }
   ],
   "source": [
    "$$.async();\n",
    "\n",
    "highcharts.initPool();\n",
    "\n",
    "console.log('Found', duplicateCount, 'duplicates,', invalidCount, 'invalid,', models.length, 'valid');\n",
    "\n",
    "var statPieChart = {\n",
    "  type: 'png',\n",
    "  options: {\n",
    "    chart: {\n",
    "      type: 'pie'\n",
    "    },\n",
    "    title: {\n",
    "      text: 'Duplicate, Invalid and Valid Models'\n",
    "    },\n",
    "    plotOptions: {\n",
    "      pie: {\n",
    "        dataLabels: {\n",
    "          enabled: true,\n",
    "          format: '<b>{point.name}</b>: {point.percentage:.1f} %'\n",
    "        }\n",
    "      }\n",
    "    },\n",
    "    series: [{\n",
    "      data: [{\n",
    "        name: 'Duplicates',\n",
    "        y: duplicateCount,\n",
    "      }, {\n",
    "        name: 'Invalid',\n",
    "        y: invalidCount,\n",
    "      }, {\n",
    "        name: 'Valid',\n",
    "        y: models.length,\n",
    "      }]\n",
    "    }]\n",
    "  }\n",
    "};\n",
    "\n",
    "highcharts.export(statPieChart, function (err, res) {\n",
    "  $$.png(res.data);\n",
    "  highcharts.killPool();\n",
    "  $$.done();\n",
    "});"
   ]
  },
  {
   "cell_type": "markdown",
   "metadata": {},
   "source": [
    "---\n",
    "# 2. Element Usage\n",
    "---"
   ]
  },
  {
   "cell_type": "markdown",
   "metadata": {},
   "source": [
    "## Define Helper Functions"
   ]
  },
  {
   "cell_type": "code",
   "execution_count": 8,
   "metadata": {},
   "outputs": [],
   "source": [
    "// traverse the containment tree of an element using a visitor\n",
    "var traverse = (element, visitor) => {\n",
    "  if (!element.$type && element.definitions) {\n",
    "    // because I keep forgetting the .definitions\n",
    "    element = element.definitions;\n",
    "  }\n",
    "  if (element.$instanceOf && visitor) {\n",
    "    // visit only if we can check the type\n",
    "    visitor(element);\n",
    "  }\n",
    "  if (element.$descriptor && element.$descriptor.properties) {\n",
    "    element.$descriptor.properties.forEach(p => {\n",
    "      if (element.hasOwnProperty(p.name) &&\n",
    "          !p.isVirtual &&\n",
    "          !p.isReference &&\n",
    "          !p.isBody &&\n",
    "          !p.isAttr)\n",
    "      {\n",
    "        const children = p.isMany ? element[p.name] : [ element[p.name] ];\n",
    "        children.forEach(child => traverse(child, visitor));\n",
    "      }\n",
    "    });\n",
    "  }\n",
    "};"
   ]
  },
  {
   "cell_type": "code",
   "execution_count": 9,
   "metadata": {},
   "outputs": [],
   "source": [
    "// collect all the elements of some specific types within a containment tree\n",
    "var collectType = (element, ...types) => {\n",
    "  let result = [];\n",
    "  traverse(element, e => {\n",
    "    if (types.some(type => e.$instanceOf(type))) {\n",
    "      result.push(e);\n",
    "    }\n",
    "  });\n",
    "  return result;\n",
    "};"
   ]
  },
  {
   "cell_type": "code",
   "execution_count": 10,
   "metadata": {},
   "outputs": [],
   "source": [
    "// return a list of the absolute and relative occurences of a specific\n",
    "// type and its subtypes in all the models\n",
    "var countByType = (type) => {\n",
    "  let types = {};\n",
    "  models.forEach(model => {\n",
    "    let typeBloom = {};\n",
    "    let typeCount = {};\n",
    "    traverse(model, e => {\n",
    "      if (!type || e.$instanceOf(type)) {\n",
    "        typeBloom[e.$type] = true;\n",
    "        typeCount[e.$type] = (typeCount[e.$type] || 0) + 1;\n",
    "      }\n",
    "    });\n",
    "\n",
    "    // make sure we have all the keys in the total output\n",
    "    for (let type in Object.assign({}, typeBloom, typeCount)) {\n",
    "      types[type] = types[type] || [0, 0];\n",
    "    }\n",
    "\n",
    "    // add to totals\n",
    "    for (let type in typeBloom) {\n",
    "      types[type][0] += typeBloom[type];\n",
    "    }\n",
    "    for (let type in typeCount) {\n",
    "      types[type][1] += typeCount[type];\n",
    "    }\n",
    "  });\n",
    "\n",
    "  let sortable = [];\n",
    "  for (let type in types) {\n",
    "    //if (type.startsWith('bpmn:')) {\n",
    "      sortable.push([type, ...types[type]]);\n",
    "    //}\n",
    "  }\n",
    "\n",
    "  sortable.sort(function(a, b) {\n",
    "    return b[1] - a[1];\n",
    "  });\n",
    "  return sortable;\n",
    "}"
   ]
  },
  {
   "cell_type": "markdown",
   "metadata": {},
   "source": [
    "## Occurence of Flow Elements\n",
    "How often are specific flow elements used in valid models?"
   ]
  },
  {
   "cell_type": "code",
   "execution_count": 11,
   "metadata": {
    "scrolled": false
   },
   "outputs": [
    {
     "data": {
      "image/png": "[encoded data removed]"
     },
     "execution_count": 11,
     "metadata": {},
     "output_type": "execute_result"
    }
   ],
   "source": [
    "$$.async();\n",
    "\n",
    "var counts = countByType('bpmn:FlowElement');\n",
    "\n",
    "highcharts.initPool();\n",
    "\n",
    "var relativeChart = {\n",
    "  type: 'png',\n",
    "  options: {\n",
    "    chart: {\n",
    "      type: 'bar',\n",
    "      height: counts.length * 25\n",
    "    },\n",
    "    title: {\n",
    "      text: 'Relative Occurence'\n",
    "    },\n",
    "    plotOptions: {\n",
    "      bar: {\n",
    "        dataLabels: {\n",
    "          enabled: true,\n",
    "          format: '<b>{point.y:.4f}</b>'\n",
    "        }\n",
    "      }\n",
    "    },\n",
    "    xAxis: {\n",
    "      categories: counts.map(line => line[0])\n",
    "    },\n",
    "    yAxis: {\n",
    "      max: 1\n",
    "    },\n",
    "    series: [{\n",
    "      name: 'Percent of models using element at least once',\n",
    "      data: counts.map(line => line[1] / models.length)\n",
    "    }]\n",
    "  }\n",
    "};\n",
    "\n",
    "highcharts.export(relativeChart, (err, res) => {\n",
    "  $$.png(res.data);\n",
    "  highcharts.killPool();\n",
    "  $$.done();\n",
    "});"
   ]
  },
  {
   "cell_type": "markdown",
   "metadata": {},
   "source": [
    "## Event Types Used\n",
    "Which event types are used?"
   ]
  },
  {
   "cell_type": "code",
   "execution_count": 12,
   "metadata": {},
   "outputs": [
    {
     "name": "stdout",
     "output_type": "stream",
     "text": [
      "[\n",
      "  [ 'bpmn:StartEvent', 8390, 10857 ],\n",
      "  [ 'bpmn:EndEvent', 8188, 12737 ],\n",
      "  [ 'bpmn:BoundaryEvent', 1277, 1916 ],\n",
      "  [ 'bpmn:IntermediateCatchEvent', 704, 1210 ],\n",
      "  [ 'bpmn:IntermediateThrowEvent', 414, 598 ]\n",
      "]\n"
     ]
    }
   ],
   "source": [
    "var counts = countByType('bpmn:Event');\n",
    "console.log(counts);"
   ]
  },
  {
   "cell_type": "code",
   "execution_count": 13,
   "metadata": {},
   "outputs": [
    {
     "name": "stdout",
     "output_type": "stream",
     "text": [
      "[\n",
      "  [ 'bpmn:TerminateEventDefinition', 1008, 1241 ],\n",
      "  [ 'bpmn:TimerEventDefinition', 859, 1145 ],\n",
      "  [ 'bpmn:MessageEventDefinition', 649, 1256 ],\n",
      "  [ 'bpmn:SignalEventDefinition', 564, 881 ],\n",
      "  [ 'bpmn:ErrorEventDefinition', 462, 717 ],\n",
      "  [ 'bpmn:CompensateEventDefinition', 216, 509 ],\n",
      "  [ 'bpmn:EscalationEventDefinition', 146, 280 ],\n",
      "  [ 'bpmn:ConditionalEventDefinition', 104, 163 ],\n",
      "  [ 'bpmn:CancelEventDefinition', 72, 187 ],\n",
      "  [ 'bpmn:LinkEventDefinition', 35, 79 ]\n",
      "]\n"
     ]
    }
   ],
   "source": [
    "var counts = countByType('bpmn:EventDefinition');\n",
    "console.log(counts);"
   ]
  },
  {
   "cell_type": "code",
   "execution_count": null,
   "metadata": {},
   "outputs": [],
   "source": []
  },
  {
   "cell_type": "markdown",
   "metadata": {},
   "source": [
    "## Timer Events"
   ]
  },
  {
   "cell_type": "code",
   "execution_count": 22,
   "metadata": {},
   "outputs": [
    {
     "name": "stdout",
     "output_type": "stream",
     "text": [
      "859 of 8802 use timer events (0.09759145648716201%)\n"
     ]
    }
   ],
   "source": [
    "var usesTimerEvents = models\n",
    "  .map(model => collectType(model, 'bpmn:TimerEventDefinition'))\n",
    "  .filter(elements => elements.length > 0)\n",
    "  .length;\n",
    "console.log(`${usesTimerEvents} of ${models.length} use timer events (${usesTimerEvents/models.length}\\%)`);"
   ]
  },
  {
   "cell_type": "code",
   "execution_count": 23,
   "metadata": {},
   "outputs": [
    {
     "name": "stdout",
     "output_type": "stream",
     "text": [
      "{ none: 178, timeDuration: 655, timeDate: 79, timeCycle: 233 }\n"
     ]
    }
   ],
   "source": [
    "var defs = models\n",
    "  .map(model => collectType(model.definitions, 'bpmn:TimerEventDefinition'))\n",
    "  .flat();\n",
    "var specs = { none: 0, timeDuration: 0, timeDate: 0, timeCycle: 0 };\n",
    "defs.forEach(def => {\n",
    "  if (def.timeDate) {\n",
    "    specs.timeDate++;\n",
    "  } else if (def.timeDuration) {\n",
    "    specs.timeDuration++;\n",
    "  } else if (def.timeCycle) {\n",
    "    specs.timeCycle++;\n",
    "  } else {\n",
    "    specs.none++;\n",
    "  }\n",
    "})\n",
    "console.log(specs);"
   ]
  },
  {
   "cell_type": "code",
   "execution_count": 26,
   "metadata": {
    "scrolled": true
   },
   "outputs": [
    {
     "name": "stdout",
     "output_type": "stream",
     "text": [
      "[\n",
      "  'P1D',\n",
      "  'PT2H',\n",
      "  'PT10M',\n",
      "  'PT2M',\n",
      "  '${duration}',\n",
      "  'PT1H',\n",
      "  'PT3H',\n",
      "  'PT3S',\n",
      "  'PT5M',\n",
      "  '${StartDate}/PT10S',\n",
      "  'PT10S',\n",
      "  'PT0S',\n",
      "  'PT1M',\n",
      "  'PT99H',\n",
      "  'PT0H',\n",
      "  'P10D',\n",
      "  'PT1S',\n",
      "  'P6M',\n",
      "  'PT4H',\n",
      "  'PT5S',\n",
      "  '240s',\n",
      "  'PT2S',\n",
      "  'time is just a concept',\n",
      "  'P0Y0M0DT0H0M05S',\n",
      "  'PT10H',\n",
      "  'PT5H',\n",
      "  'P0Y0M0DT0H0M5S',\n",
      "  'time is just an illusion',\n",
      "  'PT${expiryDuration}S',\n",
      "  'PT0M',\n",
      "  'P14D',\n",
      "  '${timerExpressionBean.getTimerDuration()}',\n",
      "  'P5S',\n",
      "  'PT30S',\n",
      "  'PT30M',\n",
      "  '${responseTimeOut_time}',\n",
      "  'PT12H',\n",
      "  'P20D',\n",
      "  'PT7D',\n",
      "  '${newsFlashTimerEnd}',\n",
      "  '${newsFlashTimerStart}',\n",
      "  '#{callbackAfter}',\n",
      "  '#{timer}',\n",
      "  '300',\n",
      "  '2s',\n",
      "  '500ms',\n",
      "  '1s',\n",
      "  '100',\n",
      "  '1000',\n",
      "  '10000',\n",
      "  '5s',\n",
      "  '5m',\n",
      "  '4s',\n",
      "  '3s',\n",
      "  'abcdef',\n",
      "  '500',\n",
      "  '10s',\n",
      "  '50m',\n",
      "  '#{x}',\n",
      "  '#{timeout}s',\n",
      "  '250ms',\n",
      "  '30d',\n",
      "  'PT100S',\n",
      "  'PT10s',\n",
      "  'PT1H15M',\n",
      "  'abc',\n",
      "  'P4H',\n",
      "  'MyTimeDurationValue',\n",
      "  '4:10',\n",
      "  '1:40',\n",
      "  '11:40',\n",
      "  'P0Y0M0DT0H0M6S',\n",
      "  'P0Y0M0DT0H0M1S',\n",
      "  'P0Y0M0DT0H0M2S',\n",
      "  'plz wait here five seconds',\n",
      "  'PT15M',\n",
      "  'P30D',\n",
      "  '${timerP}',\n",
      "  'PT20M',\n",
      "  '${resetpasswordwf_endTimer}',\n",
      "  'PT1000S',\n",
      "  '3000',\n",
      "  '4000',\n",
      "  '2000',\n",
      "  '5000',\n",
      "  'PT50M',\n",
      "  '20000',\n",
      "  '30',\n",
      "  '1',\n",
      "  'P10M',\n",
      "  'P3D',\n",
      "  '${voteWarningTimeDuration}',\n",
      "  '${voteTimeoutDuration}',\n",
      "  'P1DT0H0M0S',\n",
      "  'P2DT0H0M0S',\n",
      "  '#{plazoEditar}m',\n",
      "  '#{fechaProgramada}m',\n",
      "  '#{plazoRecepcion}m',\n",
      "  'PT5D',\n",
      "  '${startbidtime}',\n",
      "  ... 25 more items\n",
      "]\n"
     ]
    }
   ],
   "source": [
    "var bodies = defs\n",
    "  .filter(def => def.timeDuration)\n",
    "  .map(def => def.timeDuration.body);\n",
    "console.log(Array.from(new Set(bodies)));"
   ]
  },
  {
   "cell_type": "code",
   "execution_count": 38,
   "metadata": {
    "scrolled": true
   },
   "outputs": [
    {
     "name": "stdout",
     "output_type": "stream",
     "text": [
      "[\n",
      "  '#{dueDate}',\n",
      "  \"${'2036-11-14T11:12:22'}\",\n",
      "  '2036-11-14T11:12:22',\n",
      "  '${duedate}',\n",
      "  '#{innerVariable}',\n",
      "  'PT10M',\n",
      "  '${timerStartBean.cycle}',\n",
      "  undefined,\n",
      "  '2025-03-11T12:13:14',\n",
      "  '#{date}',\n",
      "  'abcdef',\n",
      "  '2018-08-13T15:10:27+02:00',\n",
      "  '2018-08-13T15:05:02+02:00',\n",
      "  'abc',\n",
      "  '201702081535',\n",
      "  'myTimeDateValue',\n",
      "  '2018-03-16T13:50:59+02:00',\n",
      "  'plz continue tomorrow',\n",
      "  '${iso8601PublishDate}',\n",
      "  '${bpm_workflowDueDate}',\n",
      "  '2012-11-12T20:44:00',\n",
      "  '2009-04-20',\n",
      "  \"${execution.getVariable('demoTask.followUpDate')}\",\n",
      "  '${dateTimeHelper.dateToString(dateTime().withTimeAtStartOfDay().plusDays(1).plusHours(0).toDate())}',\n",
      "  '${dateTimeHelper.getNextWorkingDate(dateTime().plusDays(1).toDate(),1,true)}',\n",
      "  'DateTime.AddDays(Execution.Created, 1)',\n",
      "  'scheduleTime',\n",
      "  '${when}',\n",
      "  '${sendAt}',\n",
      "  '2017-04-05T22:58:00+08:00',\n",
      "  '{$bestelldatum}',\n",
      "  '#{DelayTime}',\n",
      "  '${S(shiftInfo).prop(\"enddatetime\").value()}',\n",
      "  '${odate}',\n",
      "  'PT5M',\n",
      "  'PT1M',\n",
      "  '2011-03-11T12:13:14Z',\n",
      "  'date'\n",
      "]\n"
     ]
    }
   ],
   "source": [
    "var bodies = defs\n",
    "  .filter(def => def.timeDate)\n",
    "  .map(def => def.timeDate.body);\n",
    "console.log(Array.from(new Set(bodies)));"
   ]
  },
  {
   "cell_type": "code",
   "execution_count": 40,
   "metadata": {
    "scrolled": true
   },
   "outputs": [
    {
     "name": "stdout",
     "output_type": "stream",
     "text": [
      "[\n",
      "  'R/PT1H',\n",
      "  'R20/PT2S',\n",
      "  'R3/PT24H',\n",
      "  '0/2 * * * * ?',\n",
      "  '${timeCycle}',\n",
      "  'R1/PT1H',\n",
      "  'R3/P1D',\n",
      "  'R10/PT24H/2025-12-12T00:00:05',\n",
      "  'R10/PT24H',\n",
      "  'R/PT2S',\n",
      "  '0 0/5 * * * ?',\n",
      "  'R2/PT5M',\n",
      "  'R1/PT15S',\n",
      "  '0/20 * * * * ?',\n",
      "  'R3/PT5S',\n",
      "  'R2/PT10S',\n",
      "  '0 0/1 * * * ?',\n",
      "  'R2/PT5S',\n",
      "  'R10/PT2S',\n",
      "  'R1/PT1H/${EndDateForCatch1}',\n",
      "  'R1/PT1H/${EndDateForCatch2}',\n",
      "  'R3/P7D',\n",
      "  'R3/PT10H',\n",
      "  'R/PT10S',\n",
      "  '#{cycle}',\n",
      "  'R10/PT10H',\n",
      "  'R3/PT15S',\n",
      "  'R3/PT20S',\n",
      "  'R3/PT10M',\n",
      "  'R3/${timestamp}/PT1S',\n",
      "  '${cronExpression}',\n",
      "  '15s',\n",
      "  '500',\n",
      "  '1m###1m',\n",
      "  'R5/PT1S',\n",
      "  '30s',\n",
      "  '0/1 * * * * ?',\n",
      "  '#{cronStr}',\n",
      "  '500ms',\n",
      "  '#{time}',\n",
      "  'R2/PT1S',\n",
      "  \"'P2D'\",\n",
      "  '500ms###1s',\n",
      "  '1s###1s',\n",
      "  'R/PT1S',\n",
      "  'R2/PT0.5S',\n",
      "  '1000',\n",
      "  '2000',\n",
      "  'R2/PT2S',\n",
      "  'R/PT30S',\n",
      "  'R5/PT0.5S',\n",
      "  '1000ms',\n",
      "  '2s###1000ms',\n",
      "  'R6/PT1S',\n",
      "  '2s###4s',\n",
      "  '1s',\n",
      "  'abcdef',\n",
      "  '1d###1d',\n",
      "  'R10/PT1S',\n",
      "  'R3/#{startTime}/PT3S',\n",
      "  '1',\n",
      "  '#{timer2}',\n",
      "  '#{timer1}',\n",
      "  '250ms',\n",
      "  'R3/PT1S',\n",
      "  '#{x}',\n",
      "  'R/PT5S',\n",
      "  '50ms',\n",
      "  '1s###5s',\n",
      "  'R3/PT8M3S',\n",
      "  '5m10s',\n",
      "  'abc',\n",
      "  '*/2 * * * *',\n",
      "  'myTimeCycleValue',\n",
      "  '1m###5m',\n",
      "  'R5/P1D',\n",
      "  'Not Supported',\n",
      "  'R2/PT1H',\n",
      "  'R5/PT10S',\n",
      "  '${timerString}',\n",
      "  'R1/PT48H',\n",
      "  '432000000L',\n",
      "  'R3/PT2H',\n",
      "  '0 0 10 ${dateTimeHelper.getCronDateStringOfNextWorkingDates(dateTime().plusDays(1).toDate(),1)} * ?',\n",
      "  'R3/PT1M',\n",
      "  'R/PT2M',\n",
      "  'R/P14D',\n",
      "  '1w',\n",
      "  '0 */1 * * * ?',\n",
      "  \"'PT20H'\",\n",
      "  \"'PT20M'\",\n",
      "  \"'PT2M'\",\n",
      "  \"'PT30M'\",\n",
      "  'R2/PT10M',\n",
      "  'R5/PT5M',\n",
      "  '0 42 11 * * ?',\n",
      "  '0 42 10 * * ?',\n",
      "  '0 40 22 5 4 ? 2017',\n",
      "  'R10P1D',\n",
      "  'R3/PT10S',\n",
      "  ... 12 more items\n",
      "]\n"
     ]
    }
   ],
   "source": [
    "var bodies = defs\n",
    "  .filter(def => def.timeCycle)\n",
    "  .map(def => def.timeCycle.body);\n",
    "console.log(Array.from(new Set(bodies)));"
   ]
  },
  {
   "cell_type": "markdown",
   "metadata": {},
   "source": [
    "## Conditional Events & Formal Expressions"
   ]
  },
  {
   "cell_type": "code",
   "execution_count": 17,
   "metadata": {
    "collapsed": true
   },
   "outputs": [
    {
     "name": "stdout",
     "output_type": "stream",
     "text": [
      "[\n",
      "  '${!deptLeaderPass}',\n",
      "  '${deptLeaderPass}',\n",
      "  '${hrPass}',\n",
      "  '${!hrPass}',\n",
      "  '${reApply}',\n",
      "  '${!reApply}',\n",
      "  '${pass==1}',\n",
      "  '${pass==1}',\n",
      "  '${pass==0}',\n",
      "  '${pass==1}',\n",
      "  '${pass==1}',\n",
      "  '${pass==1}',\n",
      "  '${pass==0}',\n",
      "  '${pass==0}',\n",
      "  '${pass==0}',\n",
      "  '${pass==0}',\n",
      "  '${negotationFailed}',\n",
      "  '${!negotationFailed}',\n",
      "  '${consult==\"no\"}',\n",
      "  '${consult==\"yes\"}',\n",
      "  '${consult==\"true\"}',\n",
      "  '${consult==\"false\"}',\n",
      "  'PT3S',\n",
      "  '${completed}',\n",
      "  '${completed}',\n",
      "  '${order.basic}',\n",
      "  '${order.standard}',\n",
      "  '${order.gold}',\n",
      "  '${order.price <= 100}',\n",
      "  '${order.price > 100 && order.price < 250}',\n",
      "  '${order.price >= 250}',\n",
      "  '${orders[1].price <= 100}',\n",
      "  '${orders[1].price > 100 && orders[1].price < 250}',\n",
      "  '${orders[1].price >= 250}',\n",
      "  '${input == 1}',\n",
      "  '${input == 3}',\n",
      "  '${input == 1}',\n",
      "  '${input == 2}',\n",
      "  '${input == 3}',\n",
      "  '${input == 1}',\n",
      "  '${input == 2}',\n",
      "  '${order.invalidMethod()}',\n",
      "  '${order.isStandard()}',\n",
      "  '${input == 1}',\n",
      "  '${input == 1}',\n",
      "  '${input == 1}',\n",
      "  '${input == 2}',\n",
      "  '${input == 3}',\n",
      "  '${input == 1}',\n",
      "  '${input == 2}',\n",
      "  '${input == 3}',\n",
      "  '${telephoneInterviewOutcome == false}',\n",
      "  '${telephoneInterviewOutcome == true}',\n",
      "  '${techOk && financialOk}',\n",
      "  '${input == 1}',\n",
      "  '${input == 2}',\n",
      "  '${order.basic}',\n",
      "  '${order.standard}',\n",
      "  '${order.gold}',\n",
      "  '${order.price <= 100}',\n",
      "  '${order.price <= 150}',\n",
      "  '${order.price <= 200}',\n",
      "  '${orders[1].price <= 100}',\n",
      "  '${orders[1].price <= 150}',\n",
      "  '${orders[1].price <= 200}',\n",
      "  '${input == 1}',\n",
      "  '${input == 3 || input == 1}',\n",
      "  '${input == 1}',\n",
      "  '${input == 3}',\n",
      "  '${input <= 1}',\n",
      "  '${input <= 2}',\n",
      "  '${input <= 3}',\n",
      "  '${order.invalidMethod()}',\n",
      "  '${order.isStandard()}',\n",
      "  '${telephoneInterviewOutcome == false}',\n",
      "  '${telephoneInterviewOutcome == true}',\n",
      "  '${techOk && financialOk}',\n",
      "  '${a==1}',\n",
      "  '${b==1}',\n",
      "  '${counter <= 5}',\n",
      "  '${counter > 5}',\n",
      "  '${input <= 1}',\n",
      "  '${input <= 2}',\n",
      "  '${input <= 3}',\n",
      "  '${input == 1}',\n",
      "  '${input == 1}',\n",
      "  '${input == 1 || input == 3}',\n",
      "  '${input <= 3}',\n",
      "  '${input <= 1}',\n",
      "  '${input <= 2}',\n",
      "  '${input <= 3}',\n",
      "  '${input == 1}',\n",
      "  '${input == 3}',\n",
      "  '${input == 1}',\n",
      "  '${input == 2}',\n",
      "  'GatherInfo',\n",
      "  '_35A2E905-8EE7-437D-BFE7-F62179FE637B_TaskNameInputX',\n",
      "  'true',\n",
      "  '_35A2E905-8EE7-437D-BFE7-F62179FE637B_SkippableInputX',\n",
      "  'user',\n",
      "  ... 24022 more items\n",
      "]\n"
     ]
    }
   ],
   "source": [
    "var allFormalExpressions = models\n",
    "  .map(model => collectType(model.definitions, 'bpmn:FormalExpression'))\n",
    "  .flat()\n",
    "  .map(expr => expr.body);\n",
    "console.log(allFormalExpressions);"
   ]
  },
  {
   "cell_type": "code",
   "execution_count": 21,
   "metadata": {
    "collapsed": true
   },
   "outputs": [
    {
     "name": "stdout",
     "output_type": "stream",
     "text": [
      "[\n",
      "  '${flag == 0}',\n",
      "  '${flag == 1}',\n",
      "  'grievance',\n",
      "  'Pending with #{roleType}',\n",
      "  '_jbpm-unique-21_TaskNameInput',\n",
      "  'Review by #{roleType}',\n",
      "  '_jbpm-unique-21_NodeNameInput',\n",
      "  'REVIEW_REQUEST',\n",
      "  '_jbpm-unique-21_GroupIdInput',\n",
      "  '#{empId}',\n",
      "  'jasvinderbhomra@gmail.com',\n",
      "  '_jbpm-unique-31_FromInput',\n",
      "  'jasvinder.bhomra@abmindia.com',\n",
      "  '_jbpm-unique-31_ToInput',\n",
      "  'Request No:  #{document.requestNo} has been assigned to you.Please take necessary action.',\n",
      "  '_jbpm-unique-31_BodyInput',\n",
      "  'Request No:  #{document.requestNo} has been assigned to you.',\n",
      "  '_jbpm-unique-31_SubjectInput',\n",
      "  '_jbpm-unique-0_FromInput',\n",
      "  '_jbpm-unique-0_ToInput',\n",
      "  'Request No:  #{document.requestNo} has been approved and closed.',\n",
      "  '_jbpm-unique-0_BodyInput',\n",
      "  '_jbpm-unique-0_SubjectInput',\n",
      "  '_jbpm-unique-9_FromInput',\n",
      "  '_jbpm-unique-9_ToInput',\n",
      "  'Request No:  #{document.requestNo} has been forwarded to you.Please take necessary action.',\n",
      "  '_jbpm-unique-9_BodyInput',\n",
      "  'Request No:  #{document.requestNo} has been forwarded to you.',\n",
      "  '_jbpm-unique-9_SubjectInput',\n",
      "  '_jbpm-unique-12_FromInput',\n",
      "  '_jbpm-unique-12_ToInput',\n",
      "  '_jbpm-unique-12_BodyInput',\n",
      "  '_jbpm-unique-12_SubjectInput',\n",
      "  'return onHold.equals(\"yes\") && actionSLA.equals(\"yes\") && isValid.equals(\"yes\");',\n",
      "  'return onHold.equals(\"no\") && actionSLA.equals(\"yes\") && isValid.equals(\"yes\");',\n",
      "  'return forwardTo.equals(\"yes\") && isValid.equals(\"no\");',\n",
      "  'return forwardToOtherEmployee.equals(\"yes\");',\n",
      "  'Closed',\n",
      "  '_34_StatusInput',\n",
      "  'grievance/1.1',\n",
      "  '_35_MessageTemplateInput',\n",
      "  '_35_CcInput',\n",
      "  '#{emailIds}',\n",
      "  '_35_ToInput',\n",
      "  'Grievance Request no #{document.requestNo} is pending for your action.',\n",
      "  '_35_SubjectInput',\n",
      "  'grievance/1.2',\n",
      "  '_36_MessageTemplateInput',\n",
      "  '_36_CcInput',\n",
      "  '#{requestorEmailId}',\n",
      "  '_36_ToInput',\n",
      "  'Grievance Request no #{document.requestNo} is approved and closed.',\n",
      "  '_36_SubjectInput',\n",
      "  '_40_CcInput',\n",
      "  'grievance/1.3',\n",
      "  '_40_MessageTemplateInput',\n",
      "  '_40_ToInput',\n",
      "  'Grievance Request no #{document.requestNo} is kept on hold.',\n",
      "  '_40_SubjectInput',\n",
      "  'grievance/1.4',\n",
      "  '_42_MessageTemplateInput',\n",
      "  '_42_ToInput',\n",
      "  'Grievance Request no #{document.requestNo} is rejected and closed.',\n",
      "  '_42_SubjectInput',\n",
      "  '_43_StatusInput',\n",
      "  'return empId!=null;',\n",
      "  'return approved.equals(\"yes\") && actionSLA.equals(\"yes\") && isValid.equals(\"yes\");',\n",
      "  'return forwardTo.equals(\"yes\") && isValid.equals(\"yes\");',\n",
      "  'return forwardToOtherEmployeeWithinDepartment.equals(\"yes\");',\n",
      "  'return rejected.equals(\"yes\") && actionSLA.equals(\"yes\") && isValid.equals(\"yes\");',\n",
      "  'return forwardToOtherEmployeeLocationWise.equals(\"yes\");',\n",
      "  'UserTask_1_NodeNameInput',\n",
      "  '#{username}',\n",
      "  'UserTask_2_LocaleInput',\n",
      "  'UserTask_2_TaskNameInput',\n",
      "  'UserTask_2_NodeNameInput',\n",
      "  '_F33E807E-C3FA-4FF6-9ED0-D49B4AC66034_GroupIdInputX',\n",
      "  '_5F20EF42-0342-4D42-9032-4BF7C37BBCBD_TaskNameInputX',\n",
      "  'http://fswjd-bpmstraining.apps.lab2.opentlc.com/policyQuoteMgmt/policy',\n",
      "  '_5F20EF42-0342-4D42-9032-4BF7C37BBCBD_UrlInputX',\n",
      "  '_5F20EF42-0342-4D42-9032-4BF7C37BBCBD_PasswordInputX',\n",
      "  'brms',\n",
      "  '_5F20EF42-0342-4D42-9032-4BF7C37BBCBD_UsernameInputX',\n",
      "  '_5F20EF42-0342-4D42-9032-4BF7C37BBCBD_MethodInputX',\n",
      "  '_5F20EF42-0342-4D42-9032-4BF7C37BBCBD_ContentTypeInputX',\n",
      "  '_E3ACE220-B3A9-4A30-BC7F-D35457C48FF1_GroupIdInputX',\n",
      "  'System.out.println(\"Gateway: \" + kcontext.getNodeInstance().getNodeName());\\r\\n' +\n",
      "    'return person.getAge() < 18; ',\n",
      "  'System.out.println(\"Leaving Finance Rules Node.\");\\r\\n' +\n",
      "    '\\r\\n' +\n",
      "    'System.out.println(\"Gateway: \" + kcontext.getNodeInstance().getNodeName());\\r\\n' +\n",
      "    '\\r\\n' +\n",
      "    '// determine results of fincancial rules decision by checking if request is valid.\\r\\n' +\n",
      "    'if (request.isValid()) {\\r\\n' +\n",
      "    '\\r\\n' +\n",
      "    '    System.out.println(\"Determined request is valid, heading to Rich Customer Node\");\\r\\n' +\n",
      "    '\\treturn true;\\r\\n' +\n",
      "    '}\\r\\n' +\n",
      "    '\\r\\n' +\n",
      "    'System.out.println(\"Determined request is NOT valid, heading to Poor Customer Node\");\\r\\n' +\n",
      "    'System.out.println(\"Request validity reason is: \" + request.getInvalidReason());\\r\\n' +\n",
      "    'return request.isValid(); \\r\\n',\n",
      "  'System.out.println(\"Leaving Finance Rules Node.\");\\r\\n' +\n",
      "    '\\r\\n' +\n",
      "    'System.out.println(\"Gateway: \" + kcontext.getNodeInstance().getNodeName());\\r\\n' +\n",
      "    'System.out.println(\"Detected  request is invalid, heading to Poor Customer Node\");\\r\\n' +\n",
      "    'System.out.println(\"Request not valid reason is: \" + request.getInvalidReason());\\r\\n' +\n",
      "    'return true; ',\n",
      "  'System.out.println(\"Gateway: \" + kcontext.getNodeInstance().getNodeName());\\r\\n' +\n",
      "    'return person.getAge() > 17;',\n",
      "  'You need to approve this reward.',\n",
      "  '_E3F6B3CA-753F-46BB-A263-5341FFB27E8E_CommentInput',\n",
      "  '_E3F6B3CA-753F-46BB-A263-5341FFB27E8E_TaskNameInput',\n",
      "  '_E3F6B3CA-753F-46BB-A263-5341FFB27E8E_GroupIdInput',\n",
      "  'Reward for #{employee}: award is #{outcome}, explanation is (#{explanation}).',\n",
      "  '_7_MessageInput',\n",
      "  '_7_TaskNameInput',\n",
      "  'Congratulations!',\n",
      "  '_8_BodyInput',\n",
      "  'You received a reward!',\n",
      "  ... 5793 more items\n",
      "]\n"
     ]
    }
   ],
   "source": [
    "console.log(Array.from(new Set(allFormalExpressions)).splice(4000));"
   ]
  },
  {
   "cell_type": "markdown",
   "metadata": {},
   "source": [
    "---\n",
    "---"
   ]
  },
  {
   "cell_type": "code",
   "execution_count": 41,
   "metadata": {},
   "outputs": [
    {
     "name": "stdout",
     "output_type": "stream",
     "text": [
      "[ '15748.bpmn', '15756.bpmn', '15840.bpmn' ]\n"
     ]
    }
   ],
   "source": [
    "var term = 'R3/PT8M3S';\n",
    "var search = models\n",
    "  .filter(model => model.fileContent.indexOf(term) >= 0)\n",
    "  .map(model => model.fileName);\n",
    "console.log(search);"
   ]
  },
  {
   "cell_type": "code",
   "execution_count": null,
   "metadata": {},
   "outputs": [],
   "source": []
  },
  {
   "cell_type": "code",
   "execution_count": null,
   "metadata": {},
   "outputs": [],
   "source": []
  },
  {
   "cell_type": "code",
   "execution_count": null,
   "metadata": {},
   "outputs": [],
   "source": []
  }
 ],
 "metadata": {
  "kernelspec": {
   "display_name": "Javascript (Node.js)",
   "language": "javascript",
   "name": "javascript"
  },
  "language_info": {
   "file_extension": ".js",
   "mimetype": "application/javascript",
   "name": "javascript",
   "version": "12.16.1"
  }
 },
 "nbformat": 4,
 "nbformat_minor": 2
}
